{
  "cells": [
    {
      "cell_type": "markdown",
      "metadata": {
        "id": "VsBX8KDollrd",
        "tags": []
      },
      "source": [
        "# Árvores II - Tarefa I"
      ]
    },
    {
      "cell_type": "markdown",
      "metadata": {
        "id": "bVSLxztJllrg"
      },
      "source": [
        "Neste exercício vamos trabalhar com a base de dados de identificação de atividade humana com smartphones. Smartphones possuem acelerômetro e giroscópio, que registram dados de aceleração e giro nos eixos X, Y e Z, com frequencia de 50 Hz (ou seja, 50 registros por segundo). Os dados foram agrupados a medidas de 0.3 Hz, calculando-se variáveis derivadas como aceleração mínima, máxima, média etc por eixo no período agrupado de tempo, resultando em 561 variáveis que podem ser lidas nas bases disponíveis.\n",
        "\n",
        "A base é oriunda de um experimento, em que os indivíduos realizavam uma de seis atividades corriqueiras:\n",
        "- andando\n",
        "- subindo escada\n",
        "- descendo escada\n",
        "- parado\n",
        "- sentado\n",
        "- deitado\n",
        "\n",
        "O objetivo é classificar a atividade humana com base nos dados do acelerômetro e giroscópio do celular."
      ]
    },
    {
      "cell_type": "markdown",
      "metadata": {
        "id": "PYo2AX6Tllrh"
      },
      "source": [
        "### 1. Carregar a base\n",
        "\n",
        "Sua primeira atividade é carregar a base.\n",
        "\n",
        "Ela está disponível neste link:\n",
        "https://archive.ics.uci.edu/ml/datasets/human+activity+recognition+using+smartphones\n",
        "\n",
        "dados https://archive.ics.uci.edu/ml/machine-learning-databases/00240/  \n",
        "dataset.names https://archive.ics.uci.edu/ml/machine-learning-databases/00240/UCI%20HAR%20Dataset.names  \n",
        "UCI HAR Dataset.zip https://archive.ics.uci.edu/ml/machine-learning-databases/00240/UCI%20HAR%20Dataset.zip\n",
        "\n",
        "Você vai encontrar os seguintes arquivos:\n",
        "\n",
        "- **features.txt:** contém a lista com os nomes das variáveis\n",
        "- **features_info.txt:** contém a descrição das variáveis\n",
        "- **README.txt:** contém uma descrição do estudo e das bases\n",
        "- **activity_labels:** contém o código da atividade (inteiro entre 1 e 6) e a descrição\n",
        "- **subject_train.txt:** uma lista indicando que registro pertence a que indivíduo na base de treino\n",
        "- **X_train.txt:** as *features* (ou variáveis explicativas) da base de testes. Cada linha representa um registro das informações de um indivíduo em um intervalo de tempo de aproximadamente 1/0.3 segundo. As medidas estão em ordem temporal dentro do estudo, e o indivíduo que originou a medida está identificado na base subject_train.txt.\n",
        "- **y_train.txt:** Possui o mesmo número de linhas que X_test. Contém um número de 1 a 6 indicando a atividade que estava sendo realizada por aquele registro na base de treino.\n",
        "- **subject_test.txt:** uma lista indicando que registro pertence a que indivíduo na base de teste\n",
        "- **X_test.txt:** as *features* (ou variáveis explicativas) da base de testes. Cada linha representa um registro das informações de um indivíduo em um intervalo de tempo de aproximadamente 1/0.3 segundo. As medidas estão em ordem temporal dentro do estudo, e o indivíduo que originou a medida está identificado na base subject_test.txt.\n",
        "- **y_test.txt:** Possui o mesmo número de linhas que X_train. Contém um número de 1 a 6 indicando a atividade que estava sendo realizada por aquele registro na base de teste.\n",
        "\n",
        "Carregue as bases:\n",
        "\n",
        "1. Faça o download dos arquivos.\n",
        "2. Carregue a base ```features.txt``` em uma *Series* (por exemplo usando o comando ```pd.read_csv()```.\n",
        "3. Carregue a base subject_train.txt em uma *Series*\n",
        "4. Carregue a base X_train.txt\n",
        "    1. Faça com que as colunas deste *dataframe* tenham os nomes indicados em ```features.txt```\n",
        "    2. Sem alterar a ordem dos *dataframes*, coloque o indicador do indivíduo lido em ```subject_train.txt``` como uma variável a mais neste *dataframe***\n",
        "    3. Faça com que este *dataframe* tenha um índice duplo, composto pela ordem dos dados e pelo identificador do indivíduo\n",
        "5. Com a mesma lógica, carregue a base X_test\n",
        "    1. Certifique-se de que tenha os nomes lidos em ```features.txt```\n",
        "    2. Coloque o identificador do sujeito lido em ```subject_test.txt```\n",
        "    3. Defina um índice duplo composto pela ordem do registro e o identificador do registro\n",
        "6. Salve as bases em arquivos CSV para facilitar a leitura deles na terefa 2 deste módulo\n",
        "7. Considere que esta base é maior que a da aula, tanto em linhas quanto em colunas. Selecione apenas as três primeiras colunas da base ('tBodyAcc-mean()-X', 'tBodyAcc-mean()-Y' e 'tBodyAcc-mean()-Z'), para efeitos desse exercício.\n",
        "\n",
        "**OBS:** As bases já estão divididas em treino e teste, de modo que não vamos precisar da função ```train_test_split```."
      ]
    },
    {
      "cell_type": "markdown",
      "metadata": {
        "id": "K5ZZLNLa3Ku4"
      },
      "source": [
        "#### Carregando bibliotecas\n",
        "\n",
        "Aqui carrego as bibliotecas a serem utilizadas como ***pandas*** mara manusear o dataframe, ***scikit*** learn para modelar a arvore, ***numpy*** para algumas funções matematicas e ***matplot*** para plotar o grafico do\n",
        "```ccp_alpha```"
      ]
    },
    {
      "cell_type": "code",
      "execution_count": 19,
      "metadata": {
        "id": "Mp-vv61cllrh"
      },
      "outputs": [],
      "source": [
        "import pandas as pd\n",
        "from sklearn.tree import DecisionTreeClassifier\n",
        "import numpy as np\n",
        "import matplotlib.pyplot as plt"
      ]
    },
    {
      "cell_type": "markdown",
      "metadata": {
        "id": "Rfhemzkr4exg"
      },
      "source": [
        "- Carregando os dados de *features* e alocando seu index corretamente"
      ]
    },
    {
      "cell_type": "code",
      "execution_count": 20,
      "metadata": {
        "id": "MqYiM9Xnllri",
        "tags": []
      },
      "outputs": [],
      "source": [
        "features = pd.read_csv('./input/features.txt', sep=r'\\s+', header=None, names=['index', 'feature'])\n",
        "features = features['feature']\n",
        "features.index += 1"
      ]
    },
    {
      "cell_type": "markdown",
      "metadata": {
        "id": "UhWU3R3Y403A"
      },
      "source": [
        "- Carregando as bases *subject_train.txt* e *X_train*, criando uma nova variavel chamada subject e transformando ela em um index composto."
      ]
    },
    {
      "cell_type": "code",
      "execution_count": 21,
      "metadata": {
        "colab": {
          "base_uri": "https://localhost:8080/",
          "height": 304
        },
        "id": "dQfZ1NMlllrj",
        "outputId": "e9b0b7ba-c111-4b72-8f42-4dbd3fbcaf80"
      },
      "outputs": [],
      "source": [
        "subject_train = pd.read_csv('./input/train/subject_train.txt', sep=r'\\s+', header=None, names=['subject'])\n",
        "X_train = pd.read_csv('./input/train/X_train.txt', sep=r'\\s+', header=None)\n",
        "\n",
        "X_train['subject'] = subject_train['subject']\n",
        "\n",
        "X_train.columns = list(features) + ['subject']\n",
        "\n",
        "X_train.set_index(['subject', X_train.index], inplace=True)"
      ]
    },
    {
      "cell_type": "markdown",
      "metadata": {
        "id": "u9-LmbiOnkz_"
      },
      "source": [
        "- Realizando o mesmo para a base *X_test*."
      ]
    },
    {
      "cell_type": "code",
      "execution_count": 22,
      "metadata": {
        "colab": {
          "base_uri": "https://localhost:8080/",
          "height": 304
        },
        "id": "YBm_Kg8uq78o",
        "outputId": "8d66c3fb-f0eb-4072-c4ae-cbe0dc701ec0"
      },
      "outputs": [],
      "source": [
        "subject_test = pd.read_csv('./input/test/subject_test.txt', sep=r'\\s+', header=None, names=['subject'])\n",
        "X_test = pd.read_csv('./input/test/X_test.txt', sep=r'\\s+', header=None)\n",
        "\n",
        "X_test['subject'] = subject_test['subject']\n",
        "\n",
        "X_test.columns = list(features) + ['subject']\n",
        "\n",
        "X_test.set_index(['subject', X_test.index], inplace=True)"
      ]
    },
    {
      "cell_type": "markdown",
      "metadata": {
        "id": "jimf7F6yolqU"
      },
      "source": [
        "- Separando apenas as variaveis mensionadas no exercicio e salvando como csv em uma pasta separada."
      ]
    },
    {
      "cell_type": "code",
      "execution_count": 23,
      "metadata": {
        "id": "U5_nN6Jdr4HX"
      },
      "outputs": [
        {
          "data": {
            "text/html": [
              "<div>\n",
              "<style scoped>\n",
              "    .dataframe tbody tr th:only-of-type {\n",
              "        vertical-align: middle;\n",
              "    }\n",
              "\n",
              "    .dataframe tbody tr th {\n",
              "        vertical-align: top;\n",
              "    }\n",
              "\n",
              "    .dataframe thead th {\n",
              "        text-align: right;\n",
              "    }\n",
              "</style>\n",
              "<table border=\"1\" class=\"dataframe\">\n",
              "  <thead>\n",
              "    <tr style=\"text-align: right;\">\n",
              "      <th></th>\n",
              "      <th></th>\n",
              "      <th>tBodyAcc-mean()-X</th>\n",
              "      <th>tBodyAcc-mean()-Y</th>\n",
              "      <th>tBodyAcc-mean()-Z</th>\n",
              "    </tr>\n",
              "    <tr>\n",
              "      <th>subject</th>\n",
              "      <th></th>\n",
              "      <th></th>\n",
              "      <th></th>\n",
              "      <th></th>\n",
              "    </tr>\n",
              "  </thead>\n",
              "  <tbody>\n",
              "    <tr>\n",
              "      <th rowspan=\"5\" valign=\"top\">1</th>\n",
              "      <th>0</th>\n",
              "      <td>0.288585</td>\n",
              "      <td>-0.020294</td>\n",
              "      <td>-0.132905</td>\n",
              "    </tr>\n",
              "    <tr>\n",
              "      <th>1</th>\n",
              "      <td>0.278419</td>\n",
              "      <td>-0.016411</td>\n",
              "      <td>-0.123520</td>\n",
              "    </tr>\n",
              "    <tr>\n",
              "      <th>2</th>\n",
              "      <td>0.279653</td>\n",
              "      <td>-0.019467</td>\n",
              "      <td>-0.113462</td>\n",
              "    </tr>\n",
              "    <tr>\n",
              "      <th>3</th>\n",
              "      <td>0.279174</td>\n",
              "      <td>-0.026201</td>\n",
              "      <td>-0.123283</td>\n",
              "    </tr>\n",
              "    <tr>\n",
              "      <th>4</th>\n",
              "      <td>0.276629</td>\n",
              "      <td>-0.016570</td>\n",
              "      <td>-0.115362</td>\n",
              "    </tr>\n",
              "    <tr>\n",
              "      <th>...</th>\n",
              "      <th>...</th>\n",
              "      <td>...</td>\n",
              "      <td>...</td>\n",
              "      <td>...</td>\n",
              "    </tr>\n",
              "    <tr>\n",
              "      <th rowspan=\"5\" valign=\"top\">30</th>\n",
              "      <th>7347</th>\n",
              "      <td>0.299665</td>\n",
              "      <td>-0.057193</td>\n",
              "      <td>-0.181233</td>\n",
              "    </tr>\n",
              "    <tr>\n",
              "      <th>7348</th>\n",
              "      <td>0.273853</td>\n",
              "      <td>-0.007749</td>\n",
              "      <td>-0.147468</td>\n",
              "    </tr>\n",
              "    <tr>\n",
              "      <th>7349</th>\n",
              "      <td>0.273387</td>\n",
              "      <td>-0.017011</td>\n",
              "      <td>-0.045022</td>\n",
              "    </tr>\n",
              "    <tr>\n",
              "      <th>7350</th>\n",
              "      <td>0.289654</td>\n",
              "      <td>-0.018843</td>\n",
              "      <td>-0.158281</td>\n",
              "    </tr>\n",
              "    <tr>\n",
              "      <th>7351</th>\n",
              "      <td>0.351503</td>\n",
              "      <td>-0.012423</td>\n",
              "      <td>-0.203867</td>\n",
              "    </tr>\n",
              "  </tbody>\n",
              "</table>\n",
              "<p>7352 rows × 3 columns</p>\n",
              "</div>"
            ],
            "text/plain": [
              "              tBodyAcc-mean()-X  tBodyAcc-mean()-Y  tBodyAcc-mean()-Z\n",
              "subject                                                              \n",
              "1       0              0.288585          -0.020294          -0.132905\n",
              "        1              0.278419          -0.016411          -0.123520\n",
              "        2              0.279653          -0.019467          -0.113462\n",
              "        3              0.279174          -0.026201          -0.123283\n",
              "        4              0.276629          -0.016570          -0.115362\n",
              "...                         ...                ...                ...\n",
              "30      7347           0.299665          -0.057193          -0.181233\n",
              "        7348           0.273853          -0.007749          -0.147468\n",
              "        7349           0.273387          -0.017011          -0.045022\n",
              "        7350           0.289654          -0.018843          -0.158281\n",
              "        7351           0.351503          -0.012423          -0.203867\n",
              "\n",
              "[7352 rows x 3 columns]"
            ]
          },
          "metadata": {},
          "output_type": "display_data"
        },
        {
          "data": {
            "text/html": [
              "<div>\n",
              "<style scoped>\n",
              "    .dataframe tbody tr th:only-of-type {\n",
              "        vertical-align: middle;\n",
              "    }\n",
              "\n",
              "    .dataframe tbody tr th {\n",
              "        vertical-align: top;\n",
              "    }\n",
              "\n",
              "    .dataframe thead th {\n",
              "        text-align: right;\n",
              "    }\n",
              "</style>\n",
              "<table border=\"1\" class=\"dataframe\">\n",
              "  <thead>\n",
              "    <tr style=\"text-align: right;\">\n",
              "      <th></th>\n",
              "      <th></th>\n",
              "      <th>tBodyAcc-mean()-X</th>\n",
              "      <th>tBodyAcc-mean()-Y</th>\n",
              "      <th>tBodyAcc-mean()-Z</th>\n",
              "    </tr>\n",
              "    <tr>\n",
              "      <th>subject</th>\n",
              "      <th></th>\n",
              "      <th></th>\n",
              "      <th></th>\n",
              "      <th></th>\n",
              "    </tr>\n",
              "  </thead>\n",
              "  <tbody>\n",
              "    <tr>\n",
              "      <th rowspan=\"5\" valign=\"top\">2</th>\n",
              "      <th>0</th>\n",
              "      <td>0.257178</td>\n",
              "      <td>-0.023285</td>\n",
              "      <td>-0.014654</td>\n",
              "    </tr>\n",
              "    <tr>\n",
              "      <th>1</th>\n",
              "      <td>0.286027</td>\n",
              "      <td>-0.013163</td>\n",
              "      <td>-0.119083</td>\n",
              "    </tr>\n",
              "    <tr>\n",
              "      <th>2</th>\n",
              "      <td>0.275485</td>\n",
              "      <td>-0.026050</td>\n",
              "      <td>-0.118152</td>\n",
              "    </tr>\n",
              "    <tr>\n",
              "      <th>3</th>\n",
              "      <td>0.270298</td>\n",
              "      <td>-0.032614</td>\n",
              "      <td>-0.117520</td>\n",
              "    </tr>\n",
              "    <tr>\n",
              "      <th>4</th>\n",
              "      <td>0.274833</td>\n",
              "      <td>-0.027848</td>\n",
              "      <td>-0.129527</td>\n",
              "    </tr>\n",
              "    <tr>\n",
              "      <th>...</th>\n",
              "      <th>...</th>\n",
              "      <td>...</td>\n",
              "      <td>...</td>\n",
              "      <td>...</td>\n",
              "    </tr>\n",
              "    <tr>\n",
              "      <th rowspan=\"5\" valign=\"top\">24</th>\n",
              "      <th>2942</th>\n",
              "      <td>0.310155</td>\n",
              "      <td>-0.053391</td>\n",
              "      <td>-0.099109</td>\n",
              "    </tr>\n",
              "    <tr>\n",
              "      <th>2943</th>\n",
              "      <td>0.363385</td>\n",
              "      <td>-0.039214</td>\n",
              "      <td>-0.105915</td>\n",
              "    </tr>\n",
              "    <tr>\n",
              "      <th>2944</th>\n",
              "      <td>0.349966</td>\n",
              "      <td>0.030077</td>\n",
              "      <td>-0.115788</td>\n",
              "    </tr>\n",
              "    <tr>\n",
              "      <th>2945</th>\n",
              "      <td>0.237594</td>\n",
              "      <td>0.018467</td>\n",
              "      <td>-0.096499</td>\n",
              "    </tr>\n",
              "    <tr>\n",
              "      <th>2946</th>\n",
              "      <td>0.153627</td>\n",
              "      <td>-0.018437</td>\n",
              "      <td>-0.137018</td>\n",
              "    </tr>\n",
              "  </tbody>\n",
              "</table>\n",
              "<p>2947 rows × 3 columns</p>\n",
              "</div>"
            ],
            "text/plain": [
              "              tBodyAcc-mean()-X  tBodyAcc-mean()-Y  tBodyAcc-mean()-Z\n",
              "subject                                                              \n",
              "2       0              0.257178          -0.023285          -0.014654\n",
              "        1              0.286027          -0.013163          -0.119083\n",
              "        2              0.275485          -0.026050          -0.118152\n",
              "        3              0.270298          -0.032614          -0.117520\n",
              "        4              0.274833          -0.027848          -0.129527\n",
              "...                         ...                ...                ...\n",
              "24      2942           0.310155          -0.053391          -0.099109\n",
              "        2943           0.363385          -0.039214          -0.105915\n",
              "        2944           0.349966           0.030077          -0.115788\n",
              "        2945           0.237594           0.018467          -0.096499\n",
              "        2946           0.153627          -0.018437          -0.137018\n",
              "\n",
              "[2947 rows x 3 columns]"
            ]
          },
          "metadata": {},
          "output_type": "display_data"
        }
      ],
      "source": [
        "X_train = X_train[['tBodyAcc-mean()-X', 'tBodyAcc-mean()-Y', 'tBodyAcc-mean()-Z']]\n",
        "X_test = X_test[['tBodyAcc-mean()-X', 'tBodyAcc-mean()-Y', 'tBodyAcc-mean()-Z']]\n",
        "\n",
        "X_train.to_csv('./csv/train/X_train.csv', index=True)\n",
        "X_test.to_csv('./csv/test/X_test.csv', index=True)\n",
        "\n",
        "display(X_train)\n",
        "display(X_test)"
      ]
    },
    {
      "cell_type": "markdown",
      "metadata": {
        "id": "rK7EjRe6llrj"
      },
      "source": [
        "### 2. Ajustar uma árvore de decisão\n",
        "\n",
        "- 2.1 ajuste uma árvore de decisão com número mínimo de observações por folha = 20. Certifique-se de que você esteja utilizando apenas as 3 variáveis indicadas no exercício anterior.\n",
        "- 2.2 Calcule os ccp_alphas. Como feito em aula, certifique-se de que todos os valores são positivos, e selecione apenas valores únicos.\n",
        "- 2.3 Considere que vamos fazer uma árvore para cada valor de ```ccp_alpha```. Para ter um pouco mais de velocidade, crie uma coleção de dados com os ```ccp_alphas```, considerando apenas 1 a cada 5 valores. Dica: utilize o slicing do tipo ```array[::5]``` para isto. Caso se sinta seguro, fique à vontade para utilizar mais valores de ```ccp_alpha```."
      ]
    },
    {
      "cell_type": "markdown",
      "metadata": {
        "id": "fs1947SHpf_k"
      },
      "source": [
        "- Carregando as bases da variavel respostas que ja vem separadas como ***y_train*** e ***y_test***"
      ]
    },
    {
      "cell_type": "code",
      "execution_count": 24,
      "metadata": {
        "id": "T8NxjkYxp5jq"
      },
      "outputs": [],
      "source": [
        "y_train = pd.read_csv('./input/train/y_train.txt', sep=r'\\s+', header=None, names=['activity'])\n",
        "y_test = pd.read_csv('./input/test/y_test.txt', sep=r'\\s+', header=None, names=['activity'])"
      ]
    },
    {
      "cell_type": "markdown",
      "metadata": {
        "id": "WJYk_JExpwvK"
      },
      "source": [
        "- Treinando uma arvore com um minimo de 20 observações por folha para cada valor de ```ccp_alpha```"
      ]
    },
    {
      "cell_type": "code",
      "execution_count": 25,
      "metadata": {
        "id": "ZUVHJz3d14ua"
      },
      "outputs": [],
      "source": [
        "clf = DecisionTreeClassifier(min_samples_leaf=20, random_state=4)\n",
        "clf.fit(X_train, y_train)\n",
        "\n",
        "path = clf.cost_complexity_pruning_path(X_train, y_train)\n",
        "ccp_alphas, impurities = path.ccp_alphas, path.impurities\n",
        "\n",
        "ccp_alphas = np.unique(ccp_alphas[ccp_alphas >= 0])\n",
        "\n",
        "# ccp_alphas = ccp_alphas[::5]"
      ]
    },
    {
      "cell_type": "markdown",
      "metadata": {
        "id": "pCw_sP_Lllrk"
      },
      "source": [
        "### 3. Desempenho da árvore por ccp_alpha\n",
        "\n",
        "- 3.1: Rode uma árvore para cada ```ccp_alpha```, salvando cada árvore em uma lista\n",
        "- 3.2: Calcule a acurácia de cada árvore na base de treinamento e de teste\n",
        "- 3.3: Monte um gráfico da acurácia em função do ```ccp_alpha``` na base de validação e na base de teste\n",
        "- 3.4: Selecione a melhor árvore como sendo aquela que possui melhor acurácia na base de teste\n",
        "- 3.5: Qual a melhor acurácia que se pode obter com estas três variáveis?\n",
        "\n",
        "**Dica:** utilize a estrutura do notebook apresentado em aula.  \n",
        "**Dica 2:** meça o tempo com a função mágica ```%%time``` na primeira linha da célula.  \n",
        "**Sugestão:** caso fique confortável com o tempo de execução, faça a busca pelo melhor ```ccp_alpha``` com mais iterações.  \n",
        "**Sugestão 2:** caso fique confortável com o tempo de execução, tente inserir uma ou mais variáveis adicionais e veja se consegue aumentar a acurácia."
      ]
    },
    {
      "cell_type": "markdown",
      "metadata": {
        "id": "dv28or7ltSEz"
      },
      "source": [
        "- Rodando uma arvore para cada ```ccp_alpha``` e salvando em uma lista, calculando sua acuracia nas base treino e teste para visualizar atraves de um grafico."
      ]
    },
    {
      "cell_type": "code",
      "execution_count": 26,
      "metadata": {
        "colab": {
          "base_uri": "https://localhost:8080/"
        },
        "id": "uLJYQjwcllrl",
        "outputId": "56d9f242-5df8-4daa-9eb8-a711d6df7ecc"
      },
      "outputs": [
        {
          "name": "stdout",
          "output_type": "stream",
          "text": [
            "CPU times: total: 7.56 s\n",
            "Wall time: 8.43 s\n"
          ]
        }
      ],
      "source": [
        "%%time\n",
        "\n",
        "clfs = []\n",
        "for ccp_alpha in ccp_alphas:\n",
        "    clf = DecisionTreeClassifier(min_samples_leaf=20, ccp_alpha=ccp_alpha, random_state=4).fit(X_train, y_train)\n",
        "    clfs.append(clf)\n",
        "\n",
        "train_scores = [clf.score(X_train, y_train) for clf in clfs]\n",
        "test_scores = [clf.score(X_test, y_test) for clf in clfs]"
      ]
    },
    {
      "cell_type": "code",
      "execution_count": 27,
      "metadata": {
        "colab": {
          "base_uri": "https://localhost:8080/",
          "height": 472
        },
        "id": "ebfaddc6",
        "outputId": "db13114b-5287-4445-c292-ed3d93861b45"
      },
      "outputs": [
        {
          "data": {
            "image/png": "[encoded data removed]",
            "text/plain": [
              "<Figure size 640x480 with 1 Axes>"
            ]
          },
          "metadata": {},
          "output_type": "display_data"
        }
      ],
      "source": [
        "fig, ax = plt.subplots()\n",
        "ax.set_xlabel(\"alpha\")\n",
        "ax.set_ylabel(\"Accuracy\")\n",
        "ax.set_title(\"Accuracy vs alpha for training and test sets\")\n",
        "ax.plot(ccp_alphas, train_scores, marker='o', label=\"train\",\n",
        "        drawstyle=\"steps-post\")\n",
        "ax.plot(ccp_alphas, test_scores, marker='o', label=\"test\",\n",
        "        drawstyle=\"steps-post\")\n",
        "ax.legend()\n",
        "plt.show()"
      ]
    },
    {
      "cell_type": "markdown",
      "metadata": {
        "id": "C36c1sYvtn0t"
      },
      "source": [
        "- Com base nad 3 variaveis selecionadas, o melhor ccp_alpha e o melhor resultado são informados no codigo abaixo."
      ]
    },
    {
      "cell_type": "code",
      "execution_count": 28,
      "metadata": {
        "colab": {
          "base_uri": "https://localhost:8080/"
        },
        "id": "609bc999",
        "outputId": "41a7e43c-f9f3-40d3-a924-f874dcafa00e"
      },
      "outputs": [
        {
          "name": "stdout",
          "output_type": "stream",
          "text": [
            "The best ccp_alpha is: 0.000261784704614439\n",
            "The best accuracy on the test set is: 0.4502884289107567\n"
          ]
        }
      ],
      "source": [
        "\n",
        "best_tree_index = np.argmax(test_scores)\n",
        "\n",
        "best_ccp_alpha = ccp_alphas[best_tree_index]\n",
        "best_accuracy = test_scores[best_tree_index]\n",
        "\n",
        "print(f\"The best ccp_alpha is: {best_ccp_alpha}\")\n",
        "print(f\"The best accuracy on the test set is: {best_accuracy}\")"
      ]
    },
    {
      "cell_type": "markdown",
      "metadata": {
        "id": "nDZ3kQCQtzgF"
      },
      "source": [
        "---"
      ]
    },
    {
      "cell_type": "markdown",
      "metadata": {
        "id": "Djuqn0fpt2Nm"
      },
      "source": [
        "- Como sugerido nos exercicios, faço novos testes utilizando uma maior quantidade de variaveis para tentar melhorar os resultados da acuracia na base teste e os resultados estão todos mostrados abaixo."
      ]
    },
    {
      "cell_type": "code",
      "execution_count": 29,
      "metadata": {
        "id": "kidM9XGwoQeu"
      },
      "outputs": [],
      "source": [
        "subject_train_2 = pd.read_csv('./input/train/subject_train.txt', sep=r'\\s+', header=None, names=['subject'])\n",
        "X_train_2 = pd.read_csv('./input/train/X_train.txt', sep=r'\\s+', header=None)\n",
        "\n",
        "X_train_2['subject'] = subject_train_2['subject']\n",
        "\n",
        "X_train_2.columns = list(features) + ['subject']\n",
        "\n",
        "X_train_2.set_index(['subject', X_train_2.index], inplace=True)\n",
        "\n",
        "# display(X_train_2.head())"
      ]
    },
    {
      "cell_type": "code",
      "execution_count": 30,
      "metadata": {},
      "outputs": [],
      "source": [
        "subject_test_2 = pd.read_csv('./input/test/subject_test.txt', sep=r'\\s+', header=None, names=['subject'])\n",
        "X_test_2 = pd.read_csv('./input/test/X_test.txt', sep=r'\\s+', header=None)\n",
        "\n",
        "X_test_2['subject'] = subject_test_2['subject']\n",
        "\n",
        "X_test_2.columns = list(features) + ['subject']\n",
        "\n",
        "X_test_2.set_index(['subject', X_test_2.index], inplace=True)\n",
        "\n",
        "# display(X_test_2.head())"
      ]
    },
    {
      "cell_type": "code",
      "execution_count": 31,
      "metadata": {
        "id": "ZzTbXDvIvrud"
      },
      "outputs": [],
      "source": [
        "# X_train_2 = pd.read_csv('/content/csv/train/X_train.csv', index_col=[0, 1])\n",
        "# X_test_2 = pd.read_csv('/content/csv/test/X_test.csv', index_col=[0, 1])\n",
        "\n",
        "X_train_2 = X_train_2[[\n",
        "        'tBodyAcc-mean()-X',\n",
        "        'tBodyAcc-mean()-Y',\n",
        "        'tBodyAcc-mean()-Z',\n",
        "        'tGravityAcc-mean()-X',\n",
        "        'tGravityAcc-mean()-Y',\n",
        "        'tGravityAcc-mean()-Z',\n",
        "        'tBodyAccJerk-mean()-X',\n",
        "        'tBodyAccJerk-mean()-Y',\n",
        "        'tBodyAccJerk-mean()-Z',\n",
        "        'tBodyAccJerk-mean()-X',\n",
        "        'tBodyAccJerk-mean()-Y',\n",
        "        'tBodyAccJerk-mean()-Z',\n",
        "        'tBodyAccJerk-mean()-X',\n",
        "        'tBodyAccJerk-mean()-Y',\n",
        "        'tBodyAccJerk-mean()-Z',\n",
        "        'fBodyAcc-mean()-X',\n",
        "        'fBodyAcc-mean()-Y',\n",
        "        'fBodyAcc-mean()-Z',\n",
        "        'fBodyAccJerk-mean()-X',\n",
        "        'fBodyAccJerk-mean()-Y',\n",
        "        'fBodyAccJerk-mean()-Z',\n",
        "        'fBodyAccJerk-mean()-X',\n",
        "        'fBodyAccJerk-mean()-Y',\n",
        "        'fBodyAccJerk-mean()-Z'\n",
        "]]\n",
        "\n",
        "X_test_2 = X_test_2[[\n",
        "        'tBodyAcc-mean()-X',\n",
        "        'tBodyAcc-mean()-Y',\n",
        "        'tBodyAcc-mean()-Z',\n",
        "        'tGravityAcc-mean()-X',\n",
        "        'tGravityAcc-mean()-Y',\n",
        "        'tGravityAcc-mean()-Z',\n",
        "        'tBodyAccJerk-mean()-X',\n",
        "        'tBodyAccJerk-mean()-Y',\n",
        "        'tBodyAccJerk-mean()-Z',\n",
        "        'tBodyAccJerk-mean()-X',\n",
        "        'tBodyAccJerk-mean()-Y',\n",
        "        'tBodyAccJerk-mean()-Z',\n",
        "        'tBodyAccJerk-mean()-X',\n",
        "        'tBodyAccJerk-mean()-Y',\n",
        "        'tBodyAccJerk-mean()-Z',\n",
        "        'fBodyAcc-mean()-X',\n",
        "        'fBodyAcc-mean()-Y',\n",
        "        'fBodyAcc-mean()-Z',\n",
        "        'fBodyAccJerk-mean()-X',\n",
        "        'fBodyAccJerk-mean()-Y',\n",
        "        'fBodyAccJerk-mean()-Z',\n",
        "        'fBodyAccJerk-mean()-X',\n",
        "        'fBodyAccJerk-mean()-Y',\n",
        "        'fBodyAccJerk-mean()-Z'\n",
        "]]"
      ]
    },
    {
      "cell_type": "code",
      "execution_count": 32,
      "metadata": {
        "id": "dlXEzZGx2EO6"
      },
      "outputs": [],
      "source": [
        "clf = DecisionTreeClassifier(min_samples_leaf=20, random_state=4)\n",
        "clf.fit(X_train_2, y_train)\n",
        "\n",
        "path = clf.cost_complexity_pruning_path(X_train_2, y_train)\n",
        "ccp_alphas, impurities = path.ccp_alphas, path.impurities\n",
        "\n",
        "ccp_alphas = np.unique(ccp_alphas[ccp_alphas >= 0])\n",
        "\n",
        "# ccp_alphas = ccp_alphas[::5]"
      ]
    },
    {
      "cell_type": "code",
      "execution_count": 33,
      "metadata": {
        "colab": {
          "base_uri": "https://localhost:8080/"
        },
        "id": "0reDfQfYzTEw",
        "outputId": "72940af4-df38-4a66-d817-aee7b4219d82"
      },
      "outputs": [
        {
          "name": "stdout",
          "output_type": "stream",
          "text": [
            "CPU times: total: 15.3 s\n",
            "Wall time: 17 s\n"
          ]
        }
      ],
      "source": [
        "%%time\n",
        "\n",
        "# ccp_alphas = ccp_alphas[::5]\n",
        "\n",
        "clfs = []\n",
        "for ccp_alpha in ccp_alphas:\n",
        "    clf = DecisionTreeClassifier(min_samples_leaf=20, ccp_alpha=ccp_alpha, random_state=4).fit(X_train_2, y_train)\n",
        "    clfs.append(clf)\n",
        "\n",
        "train_scores = [clf.score(X_train_2, y_train) for clf in clfs]\n",
        "test_scores = [clf.score(X_test_2, y_test) for clf in clfs]"
      ]
    },
    {
      "cell_type": "code",
      "execution_count": 34,
      "metadata": {
        "colab": {
          "base_uri": "https://localhost:8080/",
          "height": 472
        },
        "id": "cR8a9CqyzdXP",
        "outputId": "0f5d1542-1afc-4eca-90a1-fc6afa1cc655"
      },
      "outputs": [
        {
          "data": {
            "image/png": "[encoded data removed]",
            "text/plain": [
              "<Figure size 640x480 with 1 Axes>"
            ]
          },
          "metadata": {},
          "output_type": "display_data"
        }
      ],
      "source": [
        "fig, ax = plt.subplots()\n",
        "ax.set_xlabel(\"alpha\")\n",
        "ax.set_ylabel(\"Accuracy\")\n",
        "ax.set_title(\"Accuracy vs alpha for training and test sets\")\n",
        "ax.plot(ccp_alphas, train_scores, marker='o', label=\"train\",\n",
        "        drawstyle=\"steps-post\")\n",
        "ax.plot(ccp_alphas, test_scores, marker='o', label=\"test\",\n",
        "        drawstyle=\"steps-post\")\n",
        "ax.legend()\n",
        "plt.show()"
      ]
    },
    {
      "cell_type": "code",
      "execution_count": 35,
      "metadata": {
        "colab": {
          "base_uri": "https://localhost:8080/"
        },
        "id": "NXJauCDW1QDN",
        "outputId": "f33b58a7-cacb-481a-d1c0-f44fc46a1619"
      },
      "outputs": [
        {
          "name": "stdout",
          "output_type": "stream",
          "text": [
            "The best ccp_alpha is: 0.005887684967182769\n",
            "The best accuracy on the test set is: 0.7702748557855447\n"
          ]
        }
      ],
      "source": [
        "best_tree_index = np.argmax(test_scores)\n",
        "\n",
        "best_ccp_alpha = ccp_alphas[best_tree_index]\n",
        "best_accuracy = test_scores[best_tree_index]\n",
        "\n",
        "print(f\"The best ccp_alpha is: {best_ccp_alpha}\")\n",
        "print(f\"The best accuracy on the test set is: {best_accuracy}\")"
      ]
    },
    {
      "cell_type": "markdown",
      "metadata": {
        "id": "FvKMvJTL29pF"
      },
      "source": [
        "## Com isso concluo a atividade 1 do modulo 17 com todos os exercicios realizados por completo!"
      ]
    }
  ],
  "metadata": {
    "accelerator": "GPU",
    "colab": {
      "gpuType": "T4",
      "provenance": []
    },
    "kernelspec": {
      "display_name": ".venv",
      "language": "python",
      "name": "python3"
    },
    "language_info": {
      "codemirror_mode": {
        "name": "ipython",
        "version": 3
      },
      "file_extension": ".py",
      "mimetype": "text/x-python",
      "name": "python",
      "nbconvert_exporter": "python",
      "pygments_lexer": "ipython3",
      "version": "3.13.9"
    }
  },
  "nbformat": 4,
  "nbformat_minor": 0
}
