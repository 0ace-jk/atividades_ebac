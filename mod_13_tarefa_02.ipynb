{
 "cells": [
  {
   "cell_type": "markdown",
   "metadata": {},
   "source": [
    "# EBAC - Regressão II - regressão múltipla\n",
    "\n",
    "## Tarefa I"
   ]
  },
  {
   "cell_type": "markdown",
   "metadata": {},
   "source": [
    "#### Previsão de renda II\n",
    "\n",
    "Vamos continuar trabalhando com a base 'previsao_de_renda.csv', que é a base do seu próximo projeto. Vamos usar os recursos que vimos até aqui nesta base.\n",
    "\n",
    "|variavel|descrição|\n",
    "|-|-|\n",
    "|data_ref                | Data de referência de coleta das variáveis |\n",
    "|index                   | Código de identificação do cliente|\n",
    "|sexo                    | Sexo do cliente|\n",
    "|posse_de_veiculo        | Indica se o cliente possui veículo|\n",
    "|posse_de_imovel         | Indica se o cliente possui imóvel|\n",
    "|qtd_filhos              | Quantidade de filhos do cliente|\n",
    "|tipo_renda              | Tipo de renda do cliente|\n",
    "|educacao                | Grau de instrução do cliente|\n",
    "|estado_civil            | Estado civil do cliente|\n",
    "|tipo_residencia         | Tipo de residência do cliente (própria, alugada etc)|\n",
    "|idade                   | Idade do cliente|\n",
    "|tempo_emprego           | Tempo no emprego atual|\n",
    "|qt_pessoas_residencia   | Quantidade de pessoas que moram na residência|\n",
    "|renda                   | Renda em reais|"
   ]
  },
  {
   "cell_type": "code",
   "execution_count": 16,
   "metadata": {},
   "outputs": [],
   "source": [
    "import pandas as pd\n",
    "import numpy as np\n",
    "from sklearn.model_selection import train_test_split\n",
    "import statsmodels.formula.api as smf\n",
    "from sklearn.metrics import r2_score, mean_squared_error, mean_absolute_error\n",
    "from varname import nameof"
   ]
  },
  {
   "cell_type": "code",
   "execution_count": 3,
   "metadata": {},
   "outputs": [],
   "source": [
    "df = pd.read_csv('previsao_de_renda.csv')"
   ]
  },
  {
   "cell_type": "code",
   "execution_count": 4,
   "metadata": {},
   "outputs": [
    {
     "name": "stdout",
     "output_type": "stream",
     "text": [
      "<class 'pandas.core.frame.DataFrame'>\n",
      "RangeIndex: 15000 entries, 0 to 14999\n",
      "Data columns (total 15 columns):\n",
      " #   Column                 Non-Null Count  Dtype  \n",
      "---  ------                 --------------  -----  \n",
      " 0   Unnamed: 0             15000 non-null  int64  \n",
      " 1   data_ref               15000 non-null  object \n",
      " 2   id_cliente             15000 non-null  int64  \n",
      " 3   sexo                   15000 non-null  object \n",
      " 4   posse_de_veiculo       15000 non-null  bool   \n",
      " 5   posse_de_imovel        15000 non-null  bool   \n",
      " 6   qtd_filhos             15000 non-null  int64  \n",
      " 7   tipo_renda             15000 non-null  object \n",
      " 8   educacao               15000 non-null  object \n",
      " 9   estado_civil           15000 non-null  object \n",
      " 10  tipo_residencia        15000 non-null  object \n",
      " 11  idade                  15000 non-null  int64  \n",
      " 12  tempo_emprego          12427 non-null  float64\n",
      " 13  qt_pessoas_residencia  15000 non-null  float64\n",
      " 14  renda                  15000 non-null  float64\n",
      "dtypes: bool(2), float64(3), int64(4), object(6)\n",
      "memory usage: 1.5+ MB\n"
     ]
    }
   ],
   "source": [
    "df.info()"
   ]
  },
  {
   "cell_type": "markdown",
   "metadata": {},
   "source": [
    "1. Separe a base em treinamento e teste (25% para teste, 75% para treinamento).\n",
    "2. Rode uma regularização *ridge* com alpha = [0, 0.001, 0.005, 0.01, 0.05, 0.1] e avalie o $R^2$ na base de testes. Qual o melhor modelo?\n",
    "3. Faça o mesmo que no passo 2, com uma regressão *LASSO*. Qual método chega a um melhor resultado?\n",
    "4. Rode um modelo *stepwise*. Avalie o $R^2$ na vase de testes. Qual o melhor resultado?\n",
    "5. Compare os parâmetros e avalie eventuais diferenças. Qual modelo você acha o melhor de todos?\n",
    "6. Partindo dos modelos que você ajustou, tente melhorar o $R^2$ na base de testes. Use a criatividade, veja se consegue inserir alguma transformação ou combinação de variáveis.\n",
    "7. Ajuste uma árvore de regressão e veja se consegue um $R^2$ melhor com ela."
   ]
  },
  {
   "cell_type": "code",
   "execution_count": 5,
   "metadata": {},
   "outputs": [],
   "source": [
    "df_encoded = df.drop(columns=['Unnamed: 0', 'data_ref', 'id_cliente'])\n",
    "df_encoded.dropna(inplace=True)"
   ]
  },
  {
   "cell_type": "markdown",
   "metadata": {},
   "source": [
    "## Com o dataframe ja limpo removendo colunas com dados faltantes (esses dados faltantes implicam em falhas nos modelos e metodos utilizados)"
   ]
  },
  {
   "cell_type": "markdown",
   "metadata": {},
   "source": [
    "### Aqui eu separo a base de dados em treino e teste"
   ]
  },
  {
   "cell_type": "code",
   "execution_count": 6,
   "metadata": {},
   "outputs": [],
   "source": [
    "df_treino, df_teste = train_test_split(df_encoded, test_size=0.25, random_state=4)"
   ]
  },
  {
   "cell_type": "markdown",
   "metadata": {},
   "source": [
    "### No codigo abaixo eu gero o modelo e como pede o enunciado, gero um modelo para cada valor de alpha solicitado e com o L1_wt = 0 que representa o metodo *RIDGE*"
   ]
  },
  {
   "cell_type": "code",
   "execution_count": 13,
   "metadata": {},
   "outputs": [],
   "source": [
    "modelo = \"np.log(renda) ~ C(sexo, Treatment('F')) + C(posse_de_veiculo, Treatment(False)) + C(posse_de_imovel, Treatment(True)) + qtd_filhos + C(tipo_renda, Treatment('Assalariado')) + C(educacao, Treatment('Secundário')) + C(estado_civil, Treatment('Casado')) + C(tipo_residencia, Treatment('Casa')) + idade + tempo_emprego + qt_pessoas_residencia\"\n",
    "md = smf.ols(modelo, data = df_treino)\n",
    "reg_alpha000 = md.fit_regularized(method = 'elastic_net', refit = True, L1_wt = 0, alpha = 0)\n",
    "\n",
    "reg_alpha001 = md.fit_regularized(method = 'elastic_net', refit = True, L1_wt = 0, alpha = 0.001)\n",
    "\n",
    "reg_alpha005 = md.fit_regularized(method = 'elastic_net', refit = True, L1_wt = 0, alpha = 0.005)\n",
    "\n",
    "reg_alpha010 = md.fit_regularized(method = 'elastic_net', refit = True, L1_wt = 0, alpha = 0.01)\n",
    "\n",
    "reg_alpha050 = md.fit_regularized(method = 'elastic_net', refit = True, L1_wt = 0, alpha = 0.05)\n",
    "\n",
    "reg_alpha100 = md.fit_regularized(method = 'elastic_net', refit = True, L1_wt = 0, alpha = 0.1)"
   ]
  },
  {
   "cell_type": "markdown",
   "metadata": {},
   "source": [
    "### Aqui eu avalio o R² de cada modelo usando um loop *for*"
   ]
  },
  {
   "cell_type": "code",
   "execution_count": 14,
   "metadata": {},
   "outputs": [
    {
     "ename": "AttributeError",
     "evalue": "'RegularizedResults' object has no attribute 'fit'",
     "output_type": "error",
     "traceback": [
      "\u001b[1;31m---------------------------------------------------------------------------\u001b[0m",
      "\u001b[1;31mAttributeError\u001b[0m                            Traceback (most recent call last)",
      "Cell \u001b[1;32mIn[14], line 15\u001b[0m\n\u001b[0;32m     13\u001b[0m y_pred \u001b[38;5;241m=\u001b[39m y\u001b[38;5;241m.\u001b[39mpredict(df_teste)\n\u001b[0;32m     14\u001b[0m y_pred_exp \u001b[38;5;241m=\u001b[39m np\u001b[38;5;241m.\u001b[39mexp(y_pred)\n\u001b[1;32m---> 15\u001b[0m \u001b[38;5;28mprint\u001b[39m(\u001b[38;5;124mf\u001b[39m\u001b[38;5;124m'\u001b[39m\u001b[38;5;124mR² do modelo nos dados de TREINO: \u001b[39m\u001b[38;5;132;01m{\u001b[39;00m\u001b[43my\u001b[49m\u001b[38;5;241;43m.\u001b[39;49m\u001b[43mfit\u001b[49m()\u001b[38;5;241m.\u001b[39mrsquared_adj\u001b[38;5;132;01m:\u001b[39;00m\u001b[38;5;124m.4f\u001b[39m\u001b[38;5;132;01m}\u001b[39;00m\u001b[38;5;124m'\u001b[39m)\n\u001b[0;32m     16\u001b[0m \u001b[38;5;28mprint\u001b[39m(\u001b[38;5;124mf\u001b[39m\u001b[38;5;124m\"\u001b[39m\u001b[38;5;124mR² do modelo nos dados de TESTE: \u001b[39m\u001b[38;5;132;01m{\u001b[39;00mr2_score(y_true[\u001b[38;5;124m'\u001b[39m\u001b[38;5;124mrenda\u001b[39m\u001b[38;5;124m'\u001b[39m],\u001b[38;5;250m \u001b[39my_pred_exp)\u001b[38;5;132;01m:\u001b[39;00m\u001b[38;5;124m.4f\u001b[39m\u001b[38;5;132;01m}\u001b[39;00m\u001b[38;5;124m\"\u001b[39m)\n\u001b[0;32m     17\u001b[0m \u001b[38;5;28mprint\u001b[39m(\u001b[38;5;124m\"\u001b[39m\u001b[38;5;124m-\u001b[39m\u001b[38;5;124m\"\u001b[39m \u001b[38;5;241m*\u001b[39m \u001b[38;5;241m60\u001b[39m )\n",
      "\u001b[1;31mAttributeError\u001b[0m: 'RegularizedResults' object has no attribute 'fit'"
     ]
    }
   ],
   "source": [
    "# quando o parametro L1_wt for igual a 1, utilizar esse bloco, se 0 utilizar o bloco seguinte a esse\n",
    "\n",
    "y_true = df_teste\n",
    "reg = [\n",
    "    reg_alpha000,\n",
    "    reg_alpha001,\n",
    "    reg_alpha005,\n",
    "    reg_alpha010,\n",
    "    reg_alpha050,\n",
    "    reg_alpha100\n",
    "]\n",
    "for y in reg:\n",
    "    y_pred = y.predict(df_teste)\n",
    "    y_pred_exp = np.exp(y_pred)\n",
    "    print(f'R² do modelo nos dados de TREINO: {y.fit().rsquared_adj:.4f}')\n",
    "    print(f\"R² do modelo nos dados de TESTE: {r2_score(y_true['renda'], y_pred_exp):.4f}\")\n",
    "    print(\"-\" * 60 )"
   ]
  },
  {
   "cell_type": "code",
   "execution_count": 45,
   "metadata": {},
   "outputs": [
    {
     "name": "stdout",
     "output_type": "stream",
     "text": [
      "R² do modelo nos dados de TREINO: (modelo_alpha_0.000) 0.2662\n",
      "R² do modelo nos dados de TESTE: (modelo_alpha_0.000) 0.2795\n",
      "------------------------------------------------------------\n",
      "R² do modelo nos dados de TREINO: (modelo_alpha_0.001) 0.2674\n",
      "R² do modelo nos dados de TESTE: (modelo_alpha_0.001) 0.2839\n",
      "------------------------------------------------------------\n",
      "R² do modelo nos dados de TREINO: (modelo_alpha_0.005) 0.2733\n",
      "R² do modelo nos dados de TESTE: (modelo_alpha_0.005) 0.3050\n",
      "------------------------------------------------------------\n",
      "R² do modelo nos dados de TREINO: (modelo_alpha_0.01) 0.2731\n",
      "R² do modelo nos dados de TESTE: (modelo_alpha_0.01) 0.3240\n",
      "------------------------------------------------------------\n",
      "R² do modelo nos dados de TREINO: (modelo_alpha_0.05) -0.1335\n",
      "R² do modelo nos dados de TESTE: (modelo_alpha_0.05) -0.2968\n",
      "------------------------------------------------------------\n",
      "R² do modelo nos dados de TREINO: (modelo_alpha_0.1) -6.3154\n",
      "R² do modelo nos dados de TESTE: (modelo_alpha_0.1) -14.6479\n",
      "------------------------------------------------------------\n"
     ]
    }
   ],
   "source": [
    "reg = {\n",
    "    'modelo_alpha_0.000': reg_alpha000,\n",
    "    'modelo_alpha_0.001': reg_alpha001,\n",
    "    'modelo_alpha_0.005': reg_alpha005,\n",
    "    'modelo_alpha_0.01': reg_alpha010,\n",
    "    'modelo_alpha_0.05': reg_alpha050,\n",
    "    'modelo_alpha_0.1': reg_alpha100\n",
    "}\n",
    "for y in reg:\n",
    "    y_pred_teste = reg[y].predict(df_teste)\n",
    "    y_pred_treino = reg[y].predict(df_treino)\n",
    "    y_pred_treino_exp = np.exp(y_pred_treino)\n",
    "    y_pred_teste_exp = np.exp(y_pred_teste)\n",
    "    print(f'R² do modelo nos dados de TREINO: ({y}) {r2_score(df_treino['renda'], y_pred_treino_exp):.4f}')\n",
    "    print(f\"R² do modelo nos dados de TESTE: ({y}) {r2_score(df_teste['renda'], y_pred_teste_exp):.4f}\")\n",
    "    print(\"-\" * 60 )\n",
    "    "
   ]
  },
  {
   "cell_type": "markdown",
   "metadata": {},
   "source": [
    "### Avaliando os modelos acima e se baseando no R² dos testes, o modelo com aplha = 0.01 teve o melhor resultado"
   ]
  },
  {
   "cell_type": "markdown",
   "metadata": {},
   "source": [
    "## 3. Agora fazendo para um modelo LASSO"
   ]
  },
  {
   "cell_type": "code",
   "execution_count": 48,
   "metadata": {},
   "outputs": [],
   "source": [
    "modelo = \"np.log(renda) ~ C(sexo, Treatment('F')) + C(posse_de_veiculo, Treatment(False)) + C(posse_de_imovel, Treatment(True)) + qtd_filhos + C(tipo_renda, Treatment('Assalariado')) + C(educacao, Treatment('Secundário')) + C(estado_civil, Treatment('Casado')) + C(tipo_residencia, Treatment('Casa')) + idade + tempo_emprego + qt_pessoas_residencia\"\n",
    "md = smf.ols(modelo, data = df_treino)\n",
    "reg_alpha000 = md.fit_regularized(method = 'elastic_net', refit = True, L1_wt = 1, alpha = 0)\n",
    "\n",
    "reg_alpha001 = md.fit_regularized(method = 'elastic_net', refit = True, L1_wt = 1, alpha = 0.001)\n",
    "\n",
    "reg_alpha005 = md.fit_regularized(method = 'elastic_net', refit = True, L1_wt = 1, alpha = 0.005)\n",
    "\n",
    "reg_alpha010 = md.fit_regularized(method = 'elastic_net', refit = True, L1_wt = 1, alpha = 0.01)\n",
    "\n",
    "reg_alpha050 = md.fit_regularized(method = 'elastic_net', refit = True, L1_wt = 1, alpha = 0.05)\n",
    "\n",
    "reg_alpha100 = md.fit_regularized(method = 'elastic_net', refit = True, L1_wt = 1, alpha = 0.1)"
   ]
  },
  {
   "cell_type": "code",
   "execution_count": 49,
   "metadata": {},
   "outputs": [
    {
     "ename": "AttributeError",
     "evalue": "'OLSResults' object has no attribute 'fit'",
     "output_type": "error",
     "traceback": [
      "\u001b[1;31m---------------------------------------------------------------------------\u001b[0m",
      "\u001b[1;31mAttributeError\u001b[0m                            Traceback (most recent call last)",
      "Cell \u001b[1;32mIn[49], line 13\u001b[0m\n\u001b[0;32m     11\u001b[0m y_pred \u001b[38;5;241m=\u001b[39m y\u001b[38;5;241m.\u001b[39mpredict(df_teste)\n\u001b[0;32m     12\u001b[0m y_pred_exp \u001b[38;5;241m=\u001b[39m np\u001b[38;5;241m.\u001b[39mexp(y_pred)\n\u001b[1;32m---> 13\u001b[0m \u001b[38;5;28mprint\u001b[39m(\u001b[38;5;124mf\u001b[39m\u001b[38;5;124m'\u001b[39m\u001b[38;5;124mR² do modelo nos dados de TREINO: \u001b[39m\u001b[38;5;132;01m{\u001b[39;00m\u001b[43my\u001b[49m\u001b[38;5;241;43m.\u001b[39;49m\u001b[43mfit\u001b[49m()\u001b[38;5;241m.\u001b[39mrsquared_adj\u001b[38;5;132;01m:\u001b[39;00m\u001b[38;5;124m.4f\u001b[39m\u001b[38;5;132;01m}\u001b[39;00m\u001b[38;5;124m'\u001b[39m)\n\u001b[0;32m     14\u001b[0m \u001b[38;5;28mprint\u001b[39m(\u001b[38;5;124mf\u001b[39m\u001b[38;5;124m\"\u001b[39m\u001b[38;5;124mR² do modelo nos dados de TESTE: \u001b[39m\u001b[38;5;132;01m{\u001b[39;00mr2_score(y_true[\u001b[38;5;124m'\u001b[39m\u001b[38;5;124mrenda\u001b[39m\u001b[38;5;124m'\u001b[39m],\u001b[38;5;250m \u001b[39my_pred_exp)\u001b[38;5;132;01m:\u001b[39;00m\u001b[38;5;124m.4f\u001b[39m\u001b[38;5;132;01m}\u001b[39;00m\u001b[38;5;124m\"\u001b[39m)\n\u001b[0;32m     15\u001b[0m \u001b[38;5;28mprint\u001b[39m(\u001b[38;5;124m\"\u001b[39m\u001b[38;5;124m-\u001b[39m\u001b[38;5;124m\"\u001b[39m \u001b[38;5;241m*\u001b[39m \u001b[38;5;241m60\u001b[39m )\n",
      "\u001b[1;31mAttributeError\u001b[0m: 'OLSResults' object has no attribute 'fit'"
     ]
    }
   ],
   "source": [
    "y_true = df_teste\n",
    "reg = [\n",
    "    reg_alpha000,\n",
    "    reg_alpha001,\n",
    "    reg_alpha005,\n",
    "    reg_alpha010,\n",
    "    reg_alpha050,\n",
    "    reg_alpha100\n",
    "]\n",
    "for y in reg:\n",
    "    y_pred = y.predict(df_teste)\n",
    "    y_pred_exp = np.exp(y_pred)\n",
    "    print(f'R² do modelo nos dados de TREINO: {y.fit().rsquared_adj:.4f}')\n",
    "    print(f\"R² do modelo nos dados de TESTE: {r2_score(y_true['renda'], y_pred_exp):.4f}\")\n",
    "    print(\"-\" * 60 )"
   ]
  }
 ],
 "metadata": {
  "kernelspec": {
   "display_name": "Python 3",
   "language": "python",
   "name": "python3"
  },
  "language_info": {
   "codemirror_mode": {
    "name": "ipython",
    "version": 3
   },
   "file_extension": ".py",
   "mimetype": "text/x-python",
   "name": "python",
   "nbconvert_exporter": "python",
   "pygments_lexer": "ipython3",
   "version": "3.13.6"
  }
 },
 "nbformat": 4,
 "nbformat_minor": 4
}
