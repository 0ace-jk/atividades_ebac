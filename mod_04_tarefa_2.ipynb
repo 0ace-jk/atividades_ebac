{
  "cells": [
    {
      "cell_type": "markdown",
      "metadata": {
        "id": "view-in-github",
        "colab_type": "text"
      },
      "source": [
        "<a href=\"https://colab.research.google.com/github/0ace-jk/atividades_ebac/blob/main/Mod04_Tarefa_aulas_06_a_08.ipynb\" target=\"_parent\"><img src=\"https://colab.research.google.com/assets/colab-badge.svg\" alt=\"Open In Colab\"/></a>"
      ]
    },
    {
      "cell_type": "markdown",
      "metadata": {
        "id": "DXvhReEymADu"
      },
      "source": [
        "# Tarefa 03\n",
        "\n",
        "- Leia os enunciados com atenção\n",
        "- Saiba que pode haver mais de uma resposta correta\n",
        "- Insira novas células de código sempre que achar necessário\n",
        "- Em caso de dúvidas, procure os Tutores\n",
        "- Divirta-se :)"
      ]
    },
    {
      "cell_type": "code",
      "execution_count": 1,
      "metadata": {
        "id": "xCIag73ZmADw"
      },
      "outputs": [],
      "source": [
        "import pandas as pd\n",
        "import requests\n",
        "import os.path"
      ]
    },
    {
      "cell_type": "markdown",
      "metadata": {
        "id": "tKAuZ2GFmADw"
      },
      "source": [
        "####  1) Lendo de APIs\n",
        "Vimos em aula como carregar dados públicos do governo através de um API (*Application Programming Interface*). No exemplo de aula, baixamos os dados de pedidos de verificação de limites (PVL) realizados por estados, e selecionamos apenas aqueles referentes ao estado de São Paulo.\n",
        "\n",
        "1. Repita os mesmos passos feitos em aula, mas selecione os PVLs realizados por municípios no estado do Rio de Janeiro.\n",
        "2. Quais são os três *status* das solicitações mais frequentes na base? Quais são suas frequências?\n",
        "3. Construa uma nova variável que contenha o ano do **status**. Observe que ```data_status``` vem como tipo *object* no **DataFrame**. Dica: você pode usar o método ```.str``` para transformar o tipo da variável em string, em seguida um método como [**slice()**](https://pandas.pydata.org/docs/reference/api/pandas.Series.str.slice.html) ou [**split()**](https://pandas.pydata.org/pandas-docs/stable/reference/api/pandas.Series.str.split.html).\n",
        "4. Indique a frequência de cada ano do campo construído no item (3)."
      ]
    },
    {
      "cell_type": "code",
      "execution_count": 2,
      "metadata": {
        "colab": {
          "base_uri": "https://localhost:8080/"
        },
        "id": "AOPbiEOvmADx",
        "outputId": "e87afc85-7a47-45a6-9b86-186093de1af7"
      },
      "outputs": [
        {
          "output_type": "execute_result",
          "data": {
            "text/plain": [
              "200"
            ]
          },
          "metadata": {},
          "execution_count": 2
        }
      ],
      "source": [
        "# 1) Seu código aqui\n",
        "\n",
        "url = 'http://apidatalake.tesouro.gov.br/ords/sadipem/tt/pvl?uf=RJ&tipo_interessado=Estado'\n",
        "r = requests.get(url)\n",
        "r.status_code"
      ]
    },
    {
      "cell_type": "code",
      "source": [
        "df = pd.DataFrame(r.json()['items'])\n",
        "df.head(5)"
      ],
      "metadata": {
        "colab": {
          "base_uri": "https://localhost:8080/",
          "height": 539
        },
        "id": "rJXKX8Uep9zZ",
        "outputId": "708048c4-de44-4997-9760-b4f989e1e82d"
      },
      "execution_count": 3,
      "outputs": [
        {
          "output_type": "execute_result",
          "data": {
            "text/plain": [
              "   id_pleito tipo_interessado     interessado  cod_ibge  uf  \\\n",
              "0       9102           Estado  Rio de Janeiro        33  RJ   \n",
              "1       7057           Estado  Rio de Janeiro        33  RJ   \n",
              "2       7084           Estado  Rio de Janeiro        33  RJ   \n",
              "3       5923           Estado  Rio de Janeiro        33  RJ   \n",
              "4      21660           Estado  Rio de Janeiro        33  RJ   \n",
              "\n",
              "                num_pvl                                             status  \\\n",
              "0                  None  Encaminhado à PGFN com manifestação técnica fa...   \n",
              "1                  None  Encaminhado à PGFN com manifestação técnica fa...   \n",
              "2                  None  Encaminhado à PGFN com manifestação técnica fa...   \n",
              "3                  None  Encaminhado à PGFN com manifestação técnica fa...   \n",
              "4  00000.000000/2026-68                                 Arquivado a pedido   \n",
              "\n",
              "           num_processo        data_protocolo  \\\n",
              "0  17944.000903/2009-80  2009-07-29T00:00:00Z   \n",
              "1  17944.000487/2014-87  2014-04-24T00:00:00Z   \n",
              "2  17944.000493/2010-19  2010-08-06T00:00:00Z   \n",
              "3  17944.000234/2012-41  2012-04-16T00:00:00Z   \n",
              "4  17944.000245/2016-55  2016-03-11T00:00:00Z   \n",
              "\n",
              "                                       tipo_operacao  \\\n",
              "0  Operação contratual interna (com garantia da U...   \n",
              "1  Operação contratual interna (com garantia da U...   \n",
              "2  Operação contratual externa (com garantia da U...   \n",
              "3  Operação contratual externa (com garantia da U...   \n",
              "4  Operação contratual interna (com garantia da U...   \n",
              "\n",
              "                                          finalidade  \\\n",
              "0  PEF - Programa Emergencial de Financiamento do...   \n",
              "1                                     Infraestrutura   \n",
              "2                       Fortalecimento Institucional   \n",
              "3                                     Infraestrutura   \n",
              "4                       Fortalecimento Institucional   \n",
              "\n",
              "                            tipo_credor  \\\n",
              "0       Instituição Financeira Nacional   \n",
              "1       Instituição Financeira Nacional   \n",
              "2  Instituição Financeira Internacional   \n",
              "3  Instituição Financeira Internacional   \n",
              "4       Instituição Financeira Nacional   \n",
              "\n",
              "                                              credor          moeda  \\\n",
              "0                                Banco do Brasil S/A           Real   \n",
              "1  Banco Nacional de Desenvolvimento Econômico e ...           Real   \n",
              "2  Banco Internacional para Reconstrução e Desenv...  Dólar dos EUA   \n",
              "3                       Corporação Andina de Fomento  Dólar dos EUA   \n",
              "4                                Banco do Brasil S/A           Real   \n",
              "\n",
              "          valor  pvl_assoc_divida  pvl_contradado_credor data_status  \n",
              "0  6.110800e+07                 1                      0  06/08/2009  \n",
              "1  3.000000e+09                 1                      0  04/07/2014  \n",
              "2  1.867300e+07                 1                      0  19/08/2010  \n",
              "3  2.000000e+08                 1                      0  04/10/2012  \n",
              "4  1.000000e+09                 0                      0  16/05/2016  "
            ],
            "text/html": [
              "\n",
              "  <div id=\"df-28a8a1bb-db78-4810-84ca-91ebce56be63\" class=\"colab-df-container\">\n",
              "    <div>\n",
              "<style scoped>\n",
              "    .dataframe tbody tr th:only-of-type {\n",
              "        vertical-align: middle;\n",
              "    }\n",
              "\n",
              "    .dataframe tbody tr th {\n",
              "        vertical-align: top;\n",
              "    }\n",
              "\n",
              "    .dataframe thead th {\n",
              "        text-align: right;\n",
              "    }\n",
              "</style>\n",
              "<table border=\"1\" class=\"dataframe\">\n",
              "  <thead>\n",
              "    <tr style=\"text-align: right;\">\n",
              "      <th></th>\n",
              "      <th>id_pleito</th>\n",
              "      <th>tipo_interessado</th>\n",
              "      <th>interessado</th>\n",
              "      <th>cod_ibge</th>\n",
              "      <th>uf</th>\n",
              "      <th>num_pvl</th>\n",
              "      <th>status</th>\n",
              "      <th>num_processo</th>\n",
              "      <th>data_protocolo</th>\n",
              "      <th>tipo_operacao</th>\n",
              "      <th>finalidade</th>\n",
              "      <th>tipo_credor</th>\n",
              "      <th>credor</th>\n",
              "      <th>moeda</th>\n",
              "      <th>valor</th>\n",
              "      <th>pvl_assoc_divida</th>\n",
              "      <th>pvl_contradado_credor</th>\n",
              "      <th>data_status</th>\n",
              "    </tr>\n",
              "  </thead>\n",
              "  <tbody>\n",
              "    <tr>\n",
              "      <th>0</th>\n",
              "      <td>9102</td>\n",
              "      <td>Estado</td>\n",
              "      <td>Rio de Janeiro</td>\n",
              "      <td>33</td>\n",
              "      <td>RJ</td>\n",
              "      <td>None</td>\n",
              "      <td>Encaminhado à PGFN com manifestação técnica fa...</td>\n",
              "      <td>17944.000903/2009-80</td>\n",
              "      <td>2009-07-29T00:00:00Z</td>\n",
              "      <td>Operação contratual interna (com garantia da U...</td>\n",
              "      <td>PEF - Programa Emergencial de Financiamento do...</td>\n",
              "      <td>Instituição Financeira Nacional</td>\n",
              "      <td>Banco do Brasil S/A</td>\n",
              "      <td>Real</td>\n",
              "      <td>6.110800e+07</td>\n",
              "      <td>1</td>\n",
              "      <td>0</td>\n",
              "      <td>06/08/2009</td>\n",
              "    </tr>\n",
              "    <tr>\n",
              "      <th>1</th>\n",
              "      <td>7057</td>\n",
              "      <td>Estado</td>\n",
              "      <td>Rio de Janeiro</td>\n",
              "      <td>33</td>\n",
              "      <td>RJ</td>\n",
              "      <td>None</td>\n",
              "      <td>Encaminhado à PGFN com manifestação técnica fa...</td>\n",
              "      <td>17944.000487/2014-87</td>\n",
              "      <td>2014-04-24T00:00:00Z</td>\n",
              "      <td>Operação contratual interna (com garantia da U...</td>\n",
              "      <td>Infraestrutura</td>\n",
              "      <td>Instituição Financeira Nacional</td>\n",
              "      <td>Banco Nacional de Desenvolvimento Econômico e ...</td>\n",
              "      <td>Real</td>\n",
              "      <td>3.000000e+09</td>\n",
              "      <td>1</td>\n",
              "      <td>0</td>\n",
              "      <td>04/07/2014</td>\n",
              "    </tr>\n",
              "    <tr>\n",
              "      <th>2</th>\n",
              "      <td>7084</td>\n",
              "      <td>Estado</td>\n",
              "      <td>Rio de Janeiro</td>\n",
              "      <td>33</td>\n",
              "      <td>RJ</td>\n",
              "      <td>None</td>\n",
              "      <td>Encaminhado à PGFN com manifestação técnica fa...</td>\n",
              "      <td>17944.000493/2010-19</td>\n",
              "      <td>2010-08-06T00:00:00Z</td>\n",
              "      <td>Operação contratual externa (com garantia da U...</td>\n",
              "      <td>Fortalecimento Institucional</td>\n",
              "      <td>Instituição Financeira Internacional</td>\n",
              "      <td>Banco Internacional para Reconstrução e Desenv...</td>\n",
              "      <td>Dólar dos EUA</td>\n",
              "      <td>1.867300e+07</td>\n",
              "      <td>1</td>\n",
              "      <td>0</td>\n",
              "      <td>19/08/2010</td>\n",
              "    </tr>\n",
              "    <tr>\n",
              "      <th>3</th>\n",
              "      <td>5923</td>\n",
              "      <td>Estado</td>\n",
              "      <td>Rio de Janeiro</td>\n",
              "      <td>33</td>\n",
              "      <td>RJ</td>\n",
              "      <td>None</td>\n",
              "      <td>Encaminhado à PGFN com manifestação técnica fa...</td>\n",
              "      <td>17944.000234/2012-41</td>\n",
              "      <td>2012-04-16T00:00:00Z</td>\n",
              "      <td>Operação contratual externa (com garantia da U...</td>\n",
              "      <td>Infraestrutura</td>\n",
              "      <td>Instituição Financeira Internacional</td>\n",
              "      <td>Corporação Andina de Fomento</td>\n",
              "      <td>Dólar dos EUA</td>\n",
              "      <td>2.000000e+08</td>\n",
              "      <td>1</td>\n",
              "      <td>0</td>\n",
              "      <td>04/10/2012</td>\n",
              "    </tr>\n",
              "    <tr>\n",
              "      <th>4</th>\n",
              "      <td>21660</td>\n",
              "      <td>Estado</td>\n",
              "      <td>Rio de Janeiro</td>\n",
              "      <td>33</td>\n",
              "      <td>RJ</td>\n",
              "      <td>00000.000000/2026-68</td>\n",
              "      <td>Arquivado a pedido</td>\n",
              "      <td>17944.000245/2016-55</td>\n",
              "      <td>2016-03-11T00:00:00Z</td>\n",
              "      <td>Operação contratual interna (com garantia da U...</td>\n",
              "      <td>Fortalecimento Institucional</td>\n",
              "      <td>Instituição Financeira Nacional</td>\n",
              "      <td>Banco do Brasil S/A</td>\n",
              "      <td>Real</td>\n",
              "      <td>1.000000e+09</td>\n",
              "      <td>0</td>\n",
              "      <td>0</td>\n",
              "      <td>16/05/2016</td>\n",
              "    </tr>\n",
              "  </tbody>\n",
              "</table>\n",
              "</div>\n",
              "    <div class=\"colab-df-buttons\">\n",
              "\n",
              "  <div class=\"colab-df-container\">\n",
              "    <button class=\"colab-df-convert\" onclick=\"convertToInteractive('df-28a8a1bb-db78-4810-84ca-91ebce56be63')\"\n",
              "            title=\"Convert this dataframe to an interactive table.\"\n",
              "            style=\"display:none;\">\n",
              "\n",
              "  <svg xmlns=\"http://www.w3.org/2000/svg\" height=\"24px\" viewBox=\"0 -960 960 960\">\n",
              "    <path d=\"M120-120v-720h720v720H120Zm60-500h600v-160H180v160Zm220 220h160v-160H400v160Zm0 220h160v-160H400v160ZM180-400h160v-160H180v160Zm440 0h160v-160H620v160ZM180-180h160v-160H180v160Zm440 0h160v-160H620v160Z\"/>\n",
              "  </svg>\n",
              "    </button>\n",
              "\n",
              "  <style>\n",
              "    .colab-df-container {\n",
              "      display:flex;\n",
              "      gap: 12px;\n",
              "    }\n",
              "\n",
              "    .colab-df-convert {\n",
              "      background-color: #E8F0FE;\n",
              "      border: none;\n",
              "      border-radius: 50%;\n",
              "      cursor: pointer;\n",
              "      display: none;\n",
              "      fill: #1967D2;\n",
              "      height: 32px;\n",
              "      padding: 0 0 0 0;\n",
              "      width: 32px;\n",
              "    }\n",
              "\n",
              "    .colab-df-convert:hover {\n",
              "      background-color: #E2EBFA;\n",
              "      box-shadow: 0px 1px 2px rgba(60, 64, 67, 0.3), 0px 1px 3px 1px rgba(60, 64, 67, 0.15);\n",
              "      fill: #174EA6;\n",
              "    }\n",
              "\n",
              "    .colab-df-buttons div {\n",
              "      margin-bottom: 4px;\n",
              "    }\n",
              "\n",
              "    [theme=dark] .colab-df-convert {\n",
              "      background-color: #3B4455;\n",
              "      fill: #D2E3FC;\n",
              "    }\n",
              "\n",
              "    [theme=dark] .colab-df-convert:hover {\n",
              "      background-color: #434B5C;\n",
              "      box-shadow: 0px 1px 3px 1px rgba(0, 0, 0, 0.15);\n",
              "      filter: drop-shadow(0px 1px 2px rgba(0, 0, 0, 0.3));\n",
              "      fill: #FFFFFF;\n",
              "    }\n",
              "  </style>\n",
              "\n",
              "    <script>\n",
              "      const buttonEl =\n",
              "        document.querySelector('#df-28a8a1bb-db78-4810-84ca-91ebce56be63 button.colab-df-convert');\n",
              "      buttonEl.style.display =\n",
              "        google.colab.kernel.accessAllowed ? 'block' : 'none';\n",
              "\n",
              "      async function convertToInteractive(key) {\n",
              "        const element = document.querySelector('#df-28a8a1bb-db78-4810-84ca-91ebce56be63');\n",
              "        const dataTable =\n",
              "          await google.colab.kernel.invokeFunction('convertToInteractive',\n",
              "                                                    [key], {});\n",
              "        if (!dataTable) return;\n",
              "\n",
              "        const docLinkHtml = 'Like what you see? Visit the ' +\n",
              "          '<a target=\"_blank\" href=https://colab.research.google.com/notebooks/data_table.ipynb>data table notebook</a>'\n",
              "          + ' to learn more about interactive tables.';\n",
              "        element.innerHTML = '';\n",
              "        dataTable['output_type'] = 'display_data';\n",
              "        await google.colab.output.renderOutput(dataTable, element);\n",
              "        const docLink = document.createElement('div');\n",
              "        docLink.innerHTML = docLinkHtml;\n",
              "        element.appendChild(docLink);\n",
              "      }\n",
              "    </script>\n",
              "  </div>\n",
              "\n",
              "\n",
              "<div id=\"df-1dcf06e1-e7f1-4120-b1f3-407d96f9d0ca\">\n",
              "  <button class=\"colab-df-quickchart\" onclick=\"quickchart('df-1dcf06e1-e7f1-4120-b1f3-407d96f9d0ca')\"\n",
              "            title=\"Suggest charts\"\n",
              "            style=\"display:none;\">\n",
              "\n",
              "<svg xmlns=\"http://www.w3.org/2000/svg\" height=\"24px\"viewBox=\"0 0 24 24\"\n",
              "     width=\"24px\">\n",
              "    <g>\n",
              "        <path d=\"M19 3H5c-1.1 0-2 .9-2 2v14c0 1.1.9 2 2 2h14c1.1 0 2-.9 2-2V5c0-1.1-.9-2-2-2zM9 17H7v-7h2v7zm4 0h-2V7h2v10zm4 0h-2v-4h2v4z\"/>\n",
              "    </g>\n",
              "</svg>\n",
              "  </button>\n",
              "\n",
              "<style>\n",
              "  .colab-df-quickchart {\n",
              "      --bg-color: #E8F0FE;\n",
              "      --fill-color: #1967D2;\n",
              "      --hover-bg-color: #E2EBFA;\n",
              "      --hover-fill-color: #174EA6;\n",
              "      --disabled-fill-color: #AAA;\n",
              "      --disabled-bg-color: #DDD;\n",
              "  }\n",
              "\n",
              "  [theme=dark] .colab-df-quickchart {\n",
              "      --bg-color: #3B4455;\n",
              "      --fill-color: #D2E3FC;\n",
              "      --hover-bg-color: #434B5C;\n",
              "      --hover-fill-color: #FFFFFF;\n",
              "      --disabled-bg-color: #3B4455;\n",
              "      --disabled-fill-color: #666;\n",
              "  }\n",
              "\n",
              "  .colab-df-quickchart {\n",
              "    background-color: var(--bg-color);\n",
              "    border: none;\n",
              "    border-radius: 50%;\n",
              "    cursor: pointer;\n",
              "    display: none;\n",
              "    fill: var(--fill-color);\n",
              "    height: 32px;\n",
              "    padding: 0;\n",
              "    width: 32px;\n",
              "  }\n",
              "\n",
              "  .colab-df-quickchart:hover {\n",
              "    background-color: var(--hover-bg-color);\n",
              "    box-shadow: 0 1px 2px rgba(60, 64, 67, 0.3), 0 1px 3px 1px rgba(60, 64, 67, 0.15);\n",
              "    fill: var(--button-hover-fill-color);\n",
              "  }\n",
              "\n",
              "  .colab-df-quickchart-complete:disabled,\n",
              "  .colab-df-quickchart-complete:disabled:hover {\n",
              "    background-color: var(--disabled-bg-color);\n",
              "    fill: var(--disabled-fill-color);\n",
              "    box-shadow: none;\n",
              "  }\n",
              "\n",
              "  .colab-df-spinner {\n",
              "    border: 2px solid var(--fill-color);\n",
              "    border-color: transparent;\n",
              "    border-bottom-color: var(--fill-color);\n",
              "    animation:\n",
              "      spin 1s steps(1) infinite;\n",
              "  }\n",
              "\n",
              "  @keyframes spin {\n",
              "    0% {\n",
              "      border-color: transparent;\n",
              "      border-bottom-color: var(--fill-color);\n",
              "      border-left-color: var(--fill-color);\n",
              "    }\n",
              "    20% {\n",
              "      border-color: transparent;\n",
              "      border-left-color: var(--fill-color);\n",
              "      border-top-color: var(--fill-color);\n",
              "    }\n",
              "    30% {\n",
              "      border-color: transparent;\n",
              "      border-left-color: var(--fill-color);\n",
              "      border-top-color: var(--fill-color);\n",
              "      border-right-color: var(--fill-color);\n",
              "    }\n",
              "    40% {\n",
              "      border-color: transparent;\n",
              "      border-right-color: var(--fill-color);\n",
              "      border-top-color: var(--fill-color);\n",
              "    }\n",
              "    60% {\n",
              "      border-color: transparent;\n",
              "      border-right-color: var(--fill-color);\n",
              "    }\n",
              "    80% {\n",
              "      border-color: transparent;\n",
              "      border-right-color: var(--fill-color);\n",
              "      border-bottom-color: var(--fill-color);\n",
              "    }\n",
              "    90% {\n",
              "      border-color: transparent;\n",
              "      border-bottom-color: var(--fill-color);\n",
              "    }\n",
              "  }\n",
              "</style>\n",
              "\n",
              "  <script>\n",
              "    async function quickchart(key) {\n",
              "      const quickchartButtonEl =\n",
              "        document.querySelector('#' + key + ' button');\n",
              "      quickchartButtonEl.disabled = true;  // To prevent multiple clicks.\n",
              "      quickchartButtonEl.classList.add('colab-df-spinner');\n",
              "      try {\n",
              "        const charts = await google.colab.kernel.invokeFunction(\n",
              "            'suggestCharts', [key], {});\n",
              "      } catch (error) {\n",
              "        console.error('Error during call to suggestCharts:', error);\n",
              "      }\n",
              "      quickchartButtonEl.classList.remove('colab-df-spinner');\n",
              "      quickchartButtonEl.classList.add('colab-df-quickchart-complete');\n",
              "    }\n",
              "    (() => {\n",
              "      let quickchartButtonEl =\n",
              "        document.querySelector('#df-1dcf06e1-e7f1-4120-b1f3-407d96f9d0ca button');\n",
              "      quickchartButtonEl.style.display =\n",
              "        google.colab.kernel.accessAllowed ? 'block' : 'none';\n",
              "    })();\n",
              "  </script>\n",
              "</div>\n",
              "\n",
              "    </div>\n",
              "  </div>\n"
            ],
            "application/vnd.google.colaboratory.intrinsic+json": {
              "type": "dataframe",
              "variable_name": "df",
              "summary": "{\n  \"name\": \"df\",\n  \"rows\": 52,\n  \"fields\": [\n    {\n      \"column\": \"id_pleito\",\n      \"properties\": {\n        \"dtype\": \"number\",\n        \"std\": 4066,\n        \"min\": 4997,\n        \"max\": 22594,\n        \"num_unique_values\": 52,\n        \"samples\": [\n          10561,\n          4997,\n          7187\n        ],\n        \"semantic_type\": \"\",\n        \"description\": \"\"\n      }\n    },\n    {\n      \"column\": \"tipo_interessado\",\n      \"properties\": {\n        \"dtype\": \"category\",\n        \"num_unique_values\": 1,\n        \"samples\": [\n          \"Estado\"\n        ],\n        \"semantic_type\": \"\",\n        \"description\": \"\"\n      }\n    },\n    {\n      \"column\": \"interessado\",\n      \"properties\": {\n        \"dtype\": \"category\",\n        \"num_unique_values\": 1,\n        \"samples\": [\n          \"Rio de Janeiro\"\n        ],\n        \"semantic_type\": \"\",\n        \"description\": \"\"\n      }\n    },\n    {\n      \"column\": \"cod_ibge\",\n      \"properties\": {\n        \"dtype\": \"number\",\n        \"std\": 0,\n        \"min\": 33,\n        \"max\": 33,\n        \"num_unique_values\": 1,\n        \"samples\": [\n          33\n        ],\n        \"semantic_type\": \"\",\n        \"description\": \"\"\n      }\n    },\n    {\n      \"column\": \"uf\",\n      \"properties\": {\n        \"dtype\": \"category\",\n        \"num_unique_values\": 1,\n        \"samples\": [\n          \"RJ\"\n        ],\n        \"semantic_type\": \"\",\n        \"description\": \"\"\n      }\n    },\n    {\n      \"column\": \"num_pvl\",\n      \"properties\": {\n        \"dtype\": \"category\",\n        \"num_unique_values\": 3,\n        \"samples\": [\n          \"00000.000000/2026-68\"\n        ],\n        \"semantic_type\": \"\",\n        \"description\": \"\"\n      }\n    },\n    {\n      \"column\": \"status\",\n      \"properties\": {\n        \"dtype\": \"category\",\n        \"num_unique_values\": 4,\n        \"samples\": [\n          \"Arquivado a pedido\"\n        ],\n        \"semantic_type\": \"\",\n        \"description\": \"\"\n      }\n    },\n    {\n      \"column\": \"num_processo\",\n      \"properties\": {\n        \"dtype\": \"string\",\n        \"num_unique_values\": 52,\n        \"samples\": [\n          \"17944.001228/2011-21\"\n        ],\n        \"semantic_type\": \"\",\n        \"description\": \"\"\n      }\n    },\n    {\n      \"column\": \"data_protocolo\",\n      \"properties\": {\n        \"dtype\": \"object\",\n        \"num_unique_values\": 36,\n        \"samples\": [\n          \"2009-07-17T00:00:00Z\"\n        ],\n        \"semantic_type\": \"\",\n        \"description\": \"\"\n      }\n    },\n    {\n      \"column\": \"tipo_operacao\",\n      \"properties\": {\n        \"dtype\": \"category\",\n        \"num_unique_values\": 3,\n        \"samples\": [\n          \"Opera\\u00e7\\u00e3o contratual interna (com garantia da Uni\\u00e3o)\"\n        ],\n        \"semantic_type\": \"\",\n        \"description\": \"\"\n      }\n    },\n    {\n      \"column\": \"finalidade\",\n      \"properties\": {\n        \"dtype\": \"category\",\n        \"num_unique_values\": 19,\n        \"samples\": [\n          \"PEF - Programa Emergencial de Financiamento dos Estados/DF\"\n        ],\n        \"semantic_type\": \"\",\n        \"description\": \"\"\n      }\n    },\n    {\n      \"column\": \"tipo_credor\",\n      \"properties\": {\n        \"dtype\": \"category\",\n        \"num_unique_values\": 2,\n        \"samples\": [\n          \"Institui\\u00e7\\u00e3o Financeira Internacional\"\n        ],\n        \"semantic_type\": \"\",\n        \"description\": \"\"\n      }\n    },\n    {\n      \"column\": \"credor\",\n      \"properties\": {\n        \"dtype\": \"category\",\n        \"num_unique_values\": 11,\n        \"samples\": [\n          \"Caixa Econ\\u00f4mica Federal\"\n        ],\n        \"semantic_type\": \"\",\n        \"description\": \"\"\n      }\n    },\n    {\n      \"column\": \"moeda\",\n      \"properties\": {\n        \"dtype\": \"category\",\n        \"num_unique_values\": 2,\n        \"samples\": [\n          \"D\\u00f3lar dos EUA\"\n        ],\n        \"semantic_type\": \"\",\n        \"description\": \"\"\n      }\n    },\n    {\n      \"column\": \"valor\",\n      \"properties\": {\n        \"dtype\": \"number\",\n        \"std\": 832120658.4485146,\n        \"min\": 49942.0,\n        \"max\": 3645563000.0,\n        \"num_unique_values\": 48,\n        \"samples\": [\n          132800000.0\n        ],\n        \"semantic_type\": \"\",\n        \"description\": \"\"\n      }\n    },\n    {\n      \"column\": \"pvl_assoc_divida\",\n      \"properties\": {\n        \"dtype\": \"number\",\n        \"std\": 0,\n        \"min\": 0,\n        \"max\": 1,\n        \"num_unique_values\": 2,\n        \"samples\": [\n          0\n        ],\n        \"semantic_type\": \"\",\n        \"description\": \"\"\n      }\n    },\n    {\n      \"column\": \"pvl_contradado_credor\",\n      \"properties\": {\n        \"dtype\": \"number\",\n        \"std\": 0,\n        \"min\": 0,\n        \"max\": 0,\n        \"num_unique_values\": 1,\n        \"samples\": [\n          0\n        ],\n        \"semantic_type\": \"\",\n        \"description\": \"\"\n      }\n    },\n    {\n      \"column\": \"data_status\",\n      \"properties\": {\n        \"dtype\": \"string\",\n        \"num_unique_values\": 42,\n        \"samples\": [\n          \"22/05/2009\"\n        ],\n        \"semantic_type\": \"\",\n        \"description\": \"\"\n      }\n    }\n  ]\n}"
            }
          },
          "metadata": {},
          "execution_count": 3
        }
      ]
    },
    {
      "cell_type": "code",
      "execution_count": 4,
      "metadata": {
        "colab": {
          "base_uri": "https://localhost:8080/"
        },
        "id": "JJBEB363mADx",
        "outputId": "df93f6b8-d0c1-49f8-c8ff-5dd4b9dc657e"
      },
      "outputs": [
        {
          "output_type": "stream",
          "name": "stdout",
          "text": [
            "O status mais frequente é 'Encaminhado à PGFN com manifestação técnica favorável' com 34 solicitações.\n",
            "O segundo status mais frequente é 'Deferido' com 14 solicitações.\n",
            "O terceiro status mais frequente é 'Arquivado a pedido' com 3 solicitações.\n"
          ]
        }
      ],
      "source": [
        "# 2) Seu código aqui\n",
        "\n",
        "# df.status.value_counts().index[0]\n",
        "# df.status.value_counts().values[0]\n",
        "print(f'O status mais frequente é \\'{df.status.value_counts().index[0]}\\' com {df.status.value_counts().values[0]} solicitações.')\n",
        "print(f'O segundo status mais frequente é \\'{df.status.value_counts().index[1]}\\' com {df.status.value_counts().values[1]} solicitações.')\n",
        "print(f'O terceiro status mais frequente é \\'{(df.status.value_counts().index[2])}\\' com {df.status.value_counts().values[2]} solicitações.')"
      ]
    },
    {
      "cell_type": "code",
      "execution_count": 5,
      "metadata": {
        "colab": {
          "base_uri": "https://localhost:8080/",
          "height": 241
        },
        "id": "uf-yoPPDmADy",
        "outputId": "285789e8-163e-46b4-9751-fe29d33ca711"
      },
      "outputs": [
        {
          "output_type": "execute_result",
          "data": {
            "text/plain": [
              "0    2009\n",
              "1    2014\n",
              "2    2010\n",
              "3    2012\n",
              "4    2016\n",
              "Name: ano_status, dtype: object"
            ],
            "text/html": [
              "<div>\n",
              "<style scoped>\n",
              "    .dataframe tbody tr th:only-of-type {\n",
              "        vertical-align: middle;\n",
              "    }\n",
              "\n",
              "    .dataframe tbody tr th {\n",
              "        vertical-align: top;\n",
              "    }\n",
              "\n",
              "    .dataframe thead th {\n",
              "        text-align: right;\n",
              "    }\n",
              "</style>\n",
              "<table border=\"1\" class=\"dataframe\">\n",
              "  <thead>\n",
              "    <tr style=\"text-align: right;\">\n",
              "      <th></th>\n",
              "      <th>ano_status</th>\n",
              "    </tr>\n",
              "  </thead>\n",
              "  <tbody>\n",
              "    <tr>\n",
              "      <th>0</th>\n",
              "      <td>2009</td>\n",
              "    </tr>\n",
              "    <tr>\n",
              "      <th>1</th>\n",
              "      <td>2014</td>\n",
              "    </tr>\n",
              "    <tr>\n",
              "      <th>2</th>\n",
              "      <td>2010</td>\n",
              "    </tr>\n",
              "    <tr>\n",
              "      <th>3</th>\n",
              "      <td>2012</td>\n",
              "    </tr>\n",
              "    <tr>\n",
              "      <th>4</th>\n",
              "      <td>2016</td>\n",
              "    </tr>\n",
              "  </tbody>\n",
              "</table>\n",
              "</div><br><label><b>dtype:</b> object</label>"
            ]
          },
          "metadata": {},
          "execution_count": 5
        }
      ],
      "source": [
        "# 3) Seu código aqui\n",
        "\n",
        "df['ano_status'] = df['data_status'].str.slice(6)\n",
        "df['ano_status'].head(5)"
      ]
    },
    {
      "cell_type": "code",
      "source": [
        "# 4) Seu código aqui\n",
        "\n",
        "df.ano_status.value_counts()"
      ],
      "metadata": {
        "colab": {
          "base_uri": "https://localhost:8080/",
          "height": 429
        },
        "id": "WXbOJdgmumWX",
        "outputId": "3de5e37b-0f92-4f82-dc1a-e3f378710d32"
      },
      "execution_count": 6,
      "outputs": [
        {
          "output_type": "execute_result",
          "data": {
            "text/plain": [
              "ano_status\n",
              "2012    11\n",
              "2009     9\n",
              "2013     7\n",
              "2011     6\n",
              "2014     4\n",
              "2016     4\n",
              "2002     4\n",
              "2010     3\n",
              "2006     2\n",
              "2008     2\n",
              "Name: count, dtype: int64"
            ],
            "text/html": [
              "<div>\n",
              "<style scoped>\n",
              "    .dataframe tbody tr th:only-of-type {\n",
              "        vertical-align: middle;\n",
              "    }\n",
              "\n",
              "    .dataframe tbody tr th {\n",
              "        vertical-align: top;\n",
              "    }\n",
              "\n",
              "    .dataframe thead th {\n",
              "        text-align: right;\n",
              "    }\n",
              "</style>\n",
              "<table border=\"1\" class=\"dataframe\">\n",
              "  <thead>\n",
              "    <tr style=\"text-align: right;\">\n",
              "      <th></th>\n",
              "      <th>count</th>\n",
              "    </tr>\n",
              "    <tr>\n",
              "      <th>ano_status</th>\n",
              "      <th></th>\n",
              "    </tr>\n",
              "  </thead>\n",
              "  <tbody>\n",
              "    <tr>\n",
              "      <th>2012</th>\n",
              "      <td>11</td>\n",
              "    </tr>\n",
              "    <tr>\n",
              "      <th>2009</th>\n",
              "      <td>9</td>\n",
              "    </tr>\n",
              "    <tr>\n",
              "      <th>2013</th>\n",
              "      <td>7</td>\n",
              "    </tr>\n",
              "    <tr>\n",
              "      <th>2011</th>\n",
              "      <td>6</td>\n",
              "    </tr>\n",
              "    <tr>\n",
              "      <th>2014</th>\n",
              "      <td>4</td>\n",
              "    </tr>\n",
              "    <tr>\n",
              "      <th>2016</th>\n",
              "      <td>4</td>\n",
              "    </tr>\n",
              "    <tr>\n",
              "      <th>2002</th>\n",
              "      <td>4</td>\n",
              "    </tr>\n",
              "    <tr>\n",
              "      <th>2010</th>\n",
              "      <td>3</td>\n",
              "    </tr>\n",
              "    <tr>\n",
              "      <th>2006</th>\n",
              "      <td>2</td>\n",
              "    </tr>\n",
              "    <tr>\n",
              "      <th>2008</th>\n",
              "      <td>2</td>\n",
              "    </tr>\n",
              "  </tbody>\n",
              "</table>\n",
              "</div><br><label><b>dtype:</b> int64</label>"
            ]
          },
          "metadata": {},
          "execution_count": 6
        }
      ]
    },
    {
      "cell_type": "code",
      "source": [
        "# 4) Fazendo o mesmo exercicio anterior mas utilizando loop for para imprimir na tela\n",
        "\n",
        "# esses dois comentarios abaixo foram para entender o funcionamento o loop for\n",
        "# ano = df.ano_status.value_counts().index[0]\n",
        "# print(df.ano_status.value_counts()[ano])\n",
        "for ano in df.ano_status.value_counts().index:\n",
        "    print(f'O ano {ano} teve {df.ano_status.value_counts()[ano]} solicitações.')"
      ],
      "metadata": {
        "colab": {
          "base_uri": "https://localhost:8080/"
        },
        "id": "LjisOWtuw4jO",
        "outputId": "b114d836-5058-4c90-f608-8325ca49019d"
      },
      "execution_count": 7,
      "outputs": [
        {
          "output_type": "stream",
          "name": "stdout",
          "text": [
            "O ano 2012 teve 11 solicitações.\n",
            "O ano 2009 teve 9 solicitações.\n",
            "O ano 2013 teve 7 solicitações.\n",
            "O ano 2011 teve 6 solicitações.\n",
            "O ano 2014 teve 4 solicitações.\n",
            "O ano 2016 teve 4 solicitações.\n",
            "O ano 2002 teve 4 solicitações.\n",
            "O ano 2010 teve 3 solicitações.\n",
            "O ano 2006 teve 2 solicitações.\n",
            "O ano 2008 teve 2 solicitações.\n"
          ]
        }
      ]
    },
    {
      "cell_type": "markdown",
      "metadata": {
        "id": "7ZLa11w_mADy"
      },
      "source": [
        "####  2) Melhorando a interação com o API\n",
        "Observe dois URLs de consultas diferentes, por exemplo o URL utilizado em aula, e o URL feito no exercício anterior. Compare-os e observe as diferenças.\n",
        "\n",
        "1. Faça uma função em Python que recebe como argumento o UF da consulta e o tipo de interessado (```'Estado'```ou ```Município```), e que devolve os dados da consulta no formato *DataFrame*.\n",
        "2. Quantas solicitações para o Estado podem ser consultadas para Minas Gerais com *status* em 'Arquivado por decurso de prazo' estão registradas?\n",
        "3. Qual é o município da Bahia com mais solicitações deferidas?\n",
        "4. Salve um arquivo .csv com os dados de solicitações da Bahia, com interessado = 'Estado'"
      ]
    },
    {
      "cell_type": "code",
      "execution_count": 8,
      "metadata": {
        "id": "pD8l_V4cmADy"
      },
      "outputs": [],
      "source": [
        "#1) Seu código aqui\n",
        "\n",
        "def consulta_dados(uf, tipo_interessado):\n",
        "  url = f'http://apidatalake.tesouro.gov.br/ords/sadipem/tt/pvl?uf={uf}&tipo_interessado={tipo_interessado}'\n",
        "  return url"
      ]
    },
    {
      "cell_type": "code",
      "execution_count": 9,
      "metadata": {
        "colab": {
          "base_uri": "https://localhost:8080/"
        },
        "id": "vpBORhiEmADz",
        "outputId": "986ee3a9-fa82-4545-a3da-b31774b36cb7"
      },
      "outputs": [
        {
          "output_type": "stream",
          "name": "stdout",
          "text": [
            "A quantidade de solicitações com o status em 'Arquivado por decurso de prazo' são de 1 solicitações\n"
          ]
        }
      ],
      "source": [
        "# 2) Seu código aqui\n",
        "\n",
        "minas_gerais_estado = consulta_dados('MG', 'Estado')\n",
        "df_mg = pd.DataFrame(requests.get(minas_gerais_estado).json()['items'])\n",
        "# df_mg.status.value_counts()['Arquivado por decurso de prazo']\n",
        "print(f\"A quantidade de solicitações com o status em \\'Arquivado por decurso de prazo\\' são de {df_mg.status.value_counts()['Arquivado por decurso de prazo']} solicitações\")"
      ]
    },
    {
      "cell_type": "code",
      "execution_count": 10,
      "metadata": {
        "colab": {
          "base_uri": "https://localhost:8080/"
        },
        "id": "Zq8dGYtomADz",
        "outputId": "b65a77bb-73eb-4827-827e-ef6104ed9f45"
      },
      "outputs": [
        {
          "output_type": "stream",
          "name": "stdout",
          "text": [
            "O município da Bahia com mais solicitações deferidas é 'Luís Eduardo Magalhães' com um total de 16 solicitações\n"
          ]
        }
      ],
      "source": [
        "# 3) Seu código aqui\n",
        "\n",
        "bahia_municipio = consulta_dados('BA', 'Município')\n",
        "df_ba = pd.DataFrame(requests.get(bahia_municipio).json()['items'])\n",
        "# df_ba.interessado[df_ba.status == 'Deferido'].value_counts()[df_ba.interessado[df_ba.status == 'Deferido'].value_counts().index[0]]\n",
        "# df_ba.interessado.value_counts()[df_ba.interessado.value_counts().index[0]]\n",
        "print(f\"O município da Bahia com mais solicitações deferidas é \\'{df_ba.interessado[df_ba.status == 'Deferido'].value_counts().index[0]}\\' com um total de {df_ba.interessado[df_ba.status == 'Deferido'].value_counts()[df_ba.interessado[df_ba.status == 'Deferido'].value_counts().index[0]]} solicitações\")"
      ]
    },
    {
      "cell_type": "code",
      "source": [
        "if os.path.isdir('./solicitacoes'):\n",
        "  print('Diretório já existe')\n",
        "else:\n",
        "  os.mkdir('./solicitacoes')"
      ],
      "metadata": {
        "id": "2_q1v1JuIfaK"
      },
      "execution_count": 11,
      "outputs": []
    },
    {
      "cell_type": "code",
      "execution_count": 12,
      "metadata": {
        "id": "ZBDuXh4HmAD0"
      },
      "outputs": [],
      "source": [
        "# 4) Seu código aqui\n",
        "\n",
        "df_ba_estado = consulta_dados('BA', 'Estado')\n",
        "df_ba_estado = pd.DataFrame(requests.get(df_ba_estado).json()['items'])\n",
        "df_ba_estado.to_csv('./solicitacoes/Solicitações da Bahia por Estado.csv', index = False)"
      ]
    }
  ],
  "metadata": {
    "kernelspec": {
      "display_name": "Python 3",
      "language": "python",
      "name": "python3"
    },
    "language_info": {
      "codemirror_mode": {
        "name": "ipython",
        "version": 3
      },
      "file_extension": ".py",
      "mimetype": "text/x-python",
      "name": "python",
      "nbconvert_exporter": "python",
      "pygments_lexer": "ipython3",
      "version": "3.8.5"
    },
    "colab": {
      "provenance": [],
      "include_colab_link": true
    }
  },
  "nbformat": 4,
  "nbformat_minor": 0
}